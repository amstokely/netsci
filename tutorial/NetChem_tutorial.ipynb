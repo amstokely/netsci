{
 "cells": [
  {
   "cell_type": "code",
   "execution_count": null,
   "id": "abf3f890",
   "metadata": {},
   "outputs": [],
   "source": [
    "import os\n",
    "import tarfile\n",
    "\n",
    "import netchem\n",
    "import cuarray"
   ]
  },
  {
   "cell_type": "code",
   "execution_count": null,
   "id": "d84d80d6",
   "metadata": {},
   "outputs": [],
   "source": [
    "#NETSCI_ROOT=<path to netsci root directory>\n",
    "NETSCI_ROOT='/home/astokely/CLionProjects/netsci'\n",
    "tutorial_directory = f'{NETSCI_ROOT}/tutorial'\n",
    "os.chdir(tutorial_directory)"
   ]
  },
  {
   "cell_type": "code",
   "execution_count": null,
   "id": "0a3f9be8",
   "metadata": {},
   "outputs": [],
   "source": [
    "tutorial_tarball = tarfile.open(f'{os.getcwd()}/tutorial.tar.gz')\n",
    "tutorial_tarball.extractall()\n",
    "tutorial_tarball.close()"
   ]
  },
  {
   "cell_type": "code",
   "execution_count": null,
   "id": "abf02fb4",
   "metadata": {},
   "outputs": [],
   "source": [
    "first_frame = 0\n",
    "last_frame = 999\n",
    "trajectory_file = f'{tutorial_directory}/pyro.dcd'\n",
    "topology_file = f'{tutorial_directory}/pyro.pdb'"
   ]
  },
  {
   "cell_type": "code",
   "execution_count": null,
   "id": "15d2b193",
   "metadata": {},
   "outputs": [],
   "source": [
    "graph = netchem.Graph()"
   ]
  },
  {
   "cell_type": "code",
   "execution_count": null,
   "id": "bfc31483",
   "metadata": {},
   "outputs": [],
   "source": [
    "graph.init(\n",
    "    trajectoryFile=trajectory_file,\n",
    "    topologyFile=topology_file,\n",
    "    firstFrame=first_frame,\n",
    "    lastFrame=last_frame,\n",
    ")"
   ]
  },
  {
   "cell_type": "code",
   "execution_count": null,
   "id": "77ecbaaa",
   "metadata": {},
   "outputs": [],
   "source": [
    "num_nodes = graph.numNodes()\n",
    "print(num_nodes)"
   ]
  },
  {
   "cell_type": "code",
   "execution_count": null,
   "id": "cadd6021",
   "metadata": {},
   "outputs": [],
   "source": [
    "num_frames = graph.numFrames()\n",
    "print(num_frames)"
   ]
  },
  {
   "cell_type": "code",
   "execution_count": null,
   "id": "d722ea23",
   "metadata": {},
   "outputs": [],
   "source": [
    "atoms = graph.atoms()"
   ]
  },
  {
   "cell_type": "code",
   "execution_count": null,
   "id": "2698088d",
   "metadata": {},
   "outputs": [],
   "source": [
    "num_atoms = atoms.numAtoms()\n",
    "print(num_atoms)"
   ]
  },
  {
   "cell_type": "code",
   "execution_count": null,
   "id": "5dfc6082",
   "metadata": {},
   "outputs": [],
   "source": [
    "for atom in atoms:\n",
    "    print(atom.index())"
   ]
  },
  {
   "cell_type": "code",
   "execution_count": null,
   "id": "702872bc",
   "metadata": {},
   "outputs": [],
   "source": [
    "atom0 = atoms.at(0)"
   ]
  },
  {
   "cell_type": "code",
   "execution_count": null,
   "id": "77363847",
   "metadata": {},
   "outputs": [],
   "source": [
    "atom0_index = atom0.index()\n",
    "atom0_serial = atom0.serial()\n",
    "atom0_name = atom0.name()\n",
    "atom0_element = atom0.element()\n",
    "atom0_residue_id = atom0.residueId()\n",
    "atom0_residue_name = atom0.residueName()\n",
    "atom0_chain_id = atom0.chainId()\n",
    "atom0_segment_id = atom0.segmentId()\n",
    "atom0_mass = atom0.mass()"
   ]
  },
  {
   "cell_type": "code",
   "execution_count": null,
   "id": "098b719b",
   "metadata": {},
   "outputs": [],
   "source": [
    "atom0_properties_str = f'Index: {atom0_index}\\n'\n",
    "atom0_properties_str += f'Serial: {atom0_serial}\\n'\n",
    "atom0_properties_str += f'Name: {atom0_name}\\n'\n",
    "atom0_properties_str += f'Element: {atom0_element}\\n'\n",
    "atom0_properties_str += f'Residue ID: {atom0_residue_id}\\n'\n",
    "atom0_properties_str += f'Residue Name: {atom0_residue_name}\\n'\n",
    "atom0_properties_str += f'Chain ID: {atom0_chain_id}\\n'\n",
    "atom0_properties_str += f'Segment ID: {atom0_segment_id}\\n'\n",
    "atom0_properties_str += f'Mass: {atom0_mass:.4f}'"
   ]
  },
  {
   "cell_type": "code",
   "execution_count": null,
   "id": "1079c574",
   "metadata": {},
   "outputs": [],
   "source": [
    "print(atom0_properties_str)"
   ]
  },
  {
   "cell_type": "code",
   "execution_count": null,
   "id": "db514767",
   "metadata": {},
   "outputs": [],
   "source": [
    "nodes = graph.nodes()"
   ]
  },
  {
   "cell_type": "code",
   "execution_count": null,
   "id": "71f48ecd",
   "metadata": {
    "scrolled": true
   },
   "outputs": [],
   "source": [
    "for node in nodes:\n",
    "    print(node.index())"
   ]
  },
  {
   "cell_type": "code",
   "execution_count": null,
   "id": "87eb1eb0",
   "metadata": {},
   "outputs": [],
   "source": [
    "for node in graph:\n",
    "    print(node.index())"
   ]
  },
  {
   "cell_type": "code",
   "execution_count": null,
   "id": "7aedaf14",
   "metadata": {},
   "outputs": [],
   "source": [
    "node0 = nodes[0]"
   ]
  },
  {
   "cell_type": "code",
   "execution_count": null,
   "id": "4d965327",
   "metadata": {},
   "outputs": [],
   "source": [
    "node0_tag = node0.tag()"
   ]
  },
  {
   "cell_type": "code",
   "execution_count": null,
   "id": "d300e7f2",
   "metadata": {},
   "outputs": [],
   "source": [
    "node0_num_atoms = node0.numAtoms()"
   ]
  },
  {
   "cell_type": "code",
   "execution_count": null,
   "id": "7136fb96",
   "metadata": {},
   "outputs": [],
   "source": [
    "node0_index = node0.index()"
   ]
  },
  {
   "cell_type": "code",
   "execution_count": null,
   "id": "d6c2d42a",
   "metadata": {},
   "outputs": [],
   "source": [
    "node0_total_mass = node0.totalMass()"
   ]
  },
  {
   "cell_type": "code",
   "execution_count": null,
   "id": "74c79b8e",
   "metadata": {},
   "outputs": [],
   "source": [
    "node0_atoms = node0.atoms()"
   ]
  },
  {
   "cell_type": "code",
   "execution_count": null,
   "id": "16f5029f",
   "metadata": {},
   "outputs": [],
   "source": [
    "node0_properties_str = f'Index: {node0_index}\\n'\n",
    "node0_properties_str = f'Number of Atoms: {node0_num_atoms}\\n'\n",
    "node0_properties_str += f'Total Mass: {node0_total_mass:.4f}\\n'\n",
    "node0_properties_str += f'Tag: {node0_tag}\\n'\n",
    "node0_properties_str += f'Node 0 Atoms:\\n'\n",
    "for atom in node0_atoms:\n",
    "    node0_properties_str += f'    Index: {atom.index()}\\n'\n",
    "    node0_properties_str += f'    Residue Name: {atom.residueName()}\\n'\n",
    "    node0_properties_str += f'    Residue ID: {atom.residueId()}\\n'\n",
    "    node0_properties_str += f'    Chain ID: {atom.chainId()}\\n'\n",
    "    node0_properties_str += f'    Segment ID: {atom.segmentId()}\\n'\n",
    "    node0_properties_str += f'    Mass: {atom.mass():.4f}\\n\\n'"
   ]
  },
  {
   "cell_type": "code",
   "execution_count": null,
   "id": "2cf80082",
   "metadata": {},
   "outputs": [],
   "source": [
    "print(node0_properties_str)"
   ]
  },
  {
   "cell_type": "code",
   "execution_count": null,
   "id": "46f30cc4",
   "metadata": {},
   "outputs": [],
   "source": [
    "node_coordinates = graph.nodeCoordinates()"
   ]
  },
  {
   "cell_type": "code",
   "execution_count": null,
   "id": "be523a15",
   "metadata": {},
   "outputs": [],
   "source": [
    "node0_coordinates = cuarray.FloatCuArray()\n",
    "node0_coordinates.fromCuArray(\n",
    "    cuArray=node_coordinates,\n",
    "    start=0,\n",
    "    end=0,\n",
    "    m=3,\n",
    "    n=num_frames,\n",
    ")"
   ]
  },
  {
   "cell_type": "code",
   "execution_count": null,
   "id": "17808b93",
   "metadata": {},
   "outputs": [],
   "source": [
    "for frame in range(num_frames):\n",
    "    node0_x = node0_coordinates[0][frame]\n",
    "    node0_y = node0_coordinates[1][frame]\n",
    "    node0_z = node0_coordinates[2][frame]\n",
    "    print(\n",
    "        f'x: {node0_x:.4f}    '\n",
    "        f'y: {node0_y:.4f}    '    \n",
    "        f'z: {node0_z:.4f}    '\n",
    "        f'frame: {frame}'\n",
    "    )"
   ]
  },
  {
   "cell_type": "code",
   "execution_count": null,
   "id": "b9d5d825",
   "metadata": {},
   "outputs": [],
   "source": [
    "graph_json = f'{tutorial_directory}/graph.json'\n",
    "graph_node_coordinates_npy = f'{tutorial_directory}/graph_node_coordinates.npy' "
   ]
  },
  {
   "cell_type": "code",
   "execution_count": null,
   "id": "a1f5f371",
   "metadata": {},
   "outputs": [],
   "source": [
    "graph.save(graph_json)\n",
    "graph.nodeCoordinates().save(graph_node_coordinates_npy)"
   ]
  },
  {
   "cell_type": "code",
   "execution_count": null,
   "id": "0e1aef67",
   "metadata": {},
   "outputs": [],
   "source": [
    "graph_from_json = netchem.Graph()\n",
    "graph_from_json.load(graph_json)"
   ]
  },
  {
   "cell_type": "code",
   "execution_count": null,
   "id": "d8394974",
   "metadata": {},
   "outputs": [],
   "source": [
    "graph_from_json.nodeCoordinates(graph_node_coordinates_npy)"
   ]
  }
 ],
 "metadata": {
  "kernelspec": {
   "display_name": "Python 3 (ipykernel)",
   "language": "python",
   "name": "python3"
  },
  "language_info": {
   "codemirror_mode": {
    "name": "ipython",
    "version": 3
   },
   "file_extension": ".py",
   "mimetype": "text/x-python",
   "name": "python",
   "nbconvert_exporter": "python",
   "pygments_lexer": "ipython3",
   "version": "3.10.11"
  }
 },
 "nbformat": 4,
 "nbformat_minor": 5
}
